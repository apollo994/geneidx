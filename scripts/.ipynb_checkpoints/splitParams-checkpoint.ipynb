{
 "cells": [
  {
   "cell_type": "code",
   "execution_count": 6,
   "id": "95036f29",
   "metadata": {},
   "outputs": [],
   "source": [
    "import re, os"
   ]
  },
  {
   "cell_type": "code",
   "execution_count": null,
   "id": "eb683502",
   "metadata": {},
   "outputs": [],
   "source": [
    "# Parameters to Predict Sites: Lenght, Offset, Cutoff and order (Markov chain)\n",
    "Start_profile\n",
    "6 3 -5 0\n",
    "# These are the start transition probabilities\n",
    "1 A 0.225005\n",
    "1 C -0.0848766\n",
    "1 G 0.149307\n",
    "1 T -0.495084\n",
    "2 A 0.179827"
   ]
  },
  {
   "cell_type": "code",
   "execution_count": null,
   "id": "a61c3f23",
   "metadata": {},
   "outputs": [],
   "source": [
    "\"\"\"\n",
    "NO_SCORE\n",
    "number_of_isochores\n",
    "boundaries_of_isochore\n",
    "Absolute_cutoff_exons\n",
    "Coding_cutoff_oligos\n",
    "Site_factor\n",
    "Exon_factor\n",
    "HSP_factor\n",
    "Exon_weights\n",
    "Start_profile\n",
    "Acceptor_profile\n",
    "Donor_profile\n",
    "Stop_profile\n",
    "Markov_order\n",
    "Markov_Initial_probability_matrix\n",
    "Markov_Transition_probability_matrix\n",
    "maximum_number_of_donors_per_acceptor_site\n",
    "General_gene_model\n",
    "\"\"\""
   ]
  },
  {
   "cell_type": "code",
   "execution_count": null,
   "id": "52cf0b26",
   "metadata": {},
   "outputs": [],
   "source": [
    "rep_position = 4 ** (order + 1)"
   ]
  },
  {
   "cell_type": "code",
   "execution_count": 45,
   "id": "98ed05ef",
   "metadata": {},
   "outputs": [],
   "source": [
    "taxid_list = [\"109871\", \"12968\", \"132113\", \"13684\", \"15368\", \"162425\", \"2769\", \"29760\", \"30195\", \"31276\", \"34765\", \"3656\", \"3702\", \"370843\", \"38033\", \"3885\", \"40658\", \"4069\", \"4081\", \"4113\", \"44689\", \"4530\", \"4565\", \"4641\", \"4787\", \"4897\", \"5037\", \"506608\", \"5141\", \"5180\", \"5207\", \"5297\", \"5346\", \"5501\", \"5507\", \"561515\", \"5691\", \"5807\", \"5833\", \"5855\", \"5888\", \"5911\", \"609292\", \"610380\", \"6182\", \"6239\", \"64495\", \"7029\", \"7175\", \"7209\", \"7227\", \"7425\", \"7460\", \"7462\", \"7463\", \"7719\", \"82660\", \"85445\", \"857276\", \"91402\", \"91411\", \"91432\", \"9606\", \"99883\"]"
   ]
  },
  {
   "cell_type": "code",
   "execution_count": 3,
   "id": "4d615a96",
   "metadata": {},
   "outputs": [],
   "source": []
  },
  {
   "cell_type": "code",
   "execution_count": 4,
   "id": "8e4cd20e",
   "metadata": {},
   "outputs": [
    {
     "data": {
      "text/plain": [
       "'/home/vant/Documents/CRG_internship/nextflow/geneidBLASTx-nf/scripts'"
      ]
     },
     "execution_count": 4,
     "metadata": {},
     "output_type": "execute_result"
    }
   ],
   "source": [
    "os.getcwd()"
   ]
  },
  {
   "cell_type": "code",
   "execution_count": 7,
   "id": "ce811073",
   "metadata": {},
   "outputs": [],
   "source": [
    "file_to_read = \"../docker/python-modules/Parameter_files.taxid/Ciona_intestinalis.7719.param\""
   ]
  },
  {
   "cell_type": "code",
   "execution_count": 5,
   "id": "d970814e",
   "metadata": {},
   "outputs": [],
   "source": [
    "dd = eval(\"\"\"[ \"absolute_cutoff_exons\":-15,    \"coding_cutoff_oligos\":-15,\n",
    "    \"no_score\" : -0.40,\n",
    "    \"site_factor\" : 1.51483,\n",
    "    \"exon_factor\" : 1.37056,\n",
    "    \"hsp_factor\"  : 0.19,\n",
    "    \"exon_weight\" : -12 ]\"\"\".replace(\"[\", \"{\").replace(\"]\", \"}\"))"
   ]
  },
  {
   "cell_type": "code",
   "execution_count": 16,
   "id": "f39a90dc",
   "metadata": {},
   "outputs": [],
   "source": [
    "dd = eval(\"\"\"[ \"absolute_cutoff_exons\":-15,    \"coding_cutoff_oligos\":-15,\n",
    "    \"hsp_factor\"  : 0.19,\n",
    "    \"exon_weight\" : -12 ]\"\"\".replace(\"[\", \"{\").replace(\"]\", \"}\"))"
   ]
  },
  {
   "cell_type": "code",
   "execution_count": 6,
   "id": "d78e65c0",
   "metadata": {},
   "outputs": [
    {
     "data": {
      "text/plain": [
       "dict_keys(['absolute_cutoff_exons', 'coding_cutoff_oligos', 'no_score', 'site_factor', 'exon_factor', 'hsp_factor', 'exon_weight'])"
      ]
     },
     "execution_count": 6,
     "metadata": {},
     "output_type": "execute_result"
    }
   ],
   "source": [
    "dd.keys()"
   ]
  },
  {
   "cell_type": "code",
   "execution_count": 22,
   "id": "3ee6abb2",
   "metadata": {},
   "outputs": [
    {
     "data": {
      "text/plain": [
       "\"['absolute_cutoff_exons': -15, 'coding_cutoff_oligos': -15, 'hsp_factor': 0.19, 'exon_weight': -12]\""
      ]
     },
     "execution_count": 22,
     "metadata": {},
     "output_type": "execute_result"
    }
   ],
   "source": [
    "str(dd).replace(\"{\", \"[\").replace(\"}\", \"]\")"
   ]
  },
  {
   "cell_type": "code",
   "execution_count": 17,
   "id": "52a62614",
   "metadata": {},
   "outputs": [],
   "source": [
    "list_all = set(['absolute_cutoff_exons', 'coding_cutoff_oligos', 'no_score',\n",
    "                'site_factor', 'exon_factor', 'hsp_factor', 'exon_weight'])"
   ]
  },
  {
   "cell_type": "code",
   "execution_count": 19,
   "id": "da88ae87",
   "metadata": {},
   "outputs": [
    {
     "data": {
      "text/plain": [
       "['site_factor', 'exon_factor', 'no_score']"
      ]
     },
     "execution_count": 19,
     "metadata": {},
     "output_type": "execute_result"
    }
   ],
   "source": [
    "list(list_all - set(list(dd.keys())))"
   ]
  },
  {
   "cell_type": "code",
   "execution_count": 27,
   "id": "5272e598",
   "metadata": {},
   "outputs": [],
   "source": [
    "list_all = set(['absolute_cutoff_exons', 'coding_cutoff_oligos', 'no_score',\n",
    "                'site_factor', 'exon_factor', 'hsp_factor', 'exon_weight'])\n",
    "\n",
    "dict_all_params = eval(\"\"\"[ \"absolute_cutoff_exons\":-15,    \"coding_cutoff_oligos\":-15,\n",
    "                        \"exon_weight\" : -12 ]\"\"\".replace(\"[\", \"{\").replace(\"]\", \"}\"))\n",
    "#dict_all_params = eval(\"\"\"[ \"absolute_cutoff_exons\":-15,    \"coding_cutoff_oligos\":-15,\n",
    "#                        \"hsp_factor\"  : 0.19,\n",
    "#                        \"exon_weight\" : -12 ]\"\"\".replace(\"[\", \"{\").replace(\"]\", \"}\"))\n",
    "\n",
    "def find_missing_param(list_defined, param_file):\n",
    "    \n",
    "    params_to_search = list(list_all - set(list(list_defined)))\n",
    "    \n",
    "    for text_to_find in params_to_search:\n",
    "        \n",
    "        started = 0\n",
    "\n",
    "        with open(param_file) as f:\n",
    "            for line in f:\n",
    "                if started == 0:\n",
    "                    if line.strip().lower() == text_to_find:\n",
    "                        param_name = line.strip().lower()\n",
    "                        print(line.strip())\n",
    "                        started = -1\n",
    "\n",
    "                # we have just found the label of the parameter of interest\n",
    "                # here we need read the value\n",
    "                elif started == -1:\n",
    "                    vals = line.strip().split(' ')\n",
    "                    \n",
    "                    # we check whether there are multiple values,\n",
    "                    # if so, we take the value of the last one\n",
    "                    if vals.count(vals[0]) > vals.count(vals[-1]):\n",
    "                        dict_all_params[param_name] = vals[0]\n",
    "                        print(vals[0])\n",
    "                        \n",
    "                    else:\n",
    "                        dict_all_params[param_name] = vals[-1]\n",
    "                        print(vals[-1])\n",
    "        \n",
    "                    started = 0\n",
    "    return str(dict_all_params).replace(\"{\", \"[\").replace(\"}\", \"]\")"
   ]
  },
  {
   "cell_type": "code",
   "execution_count": 28,
   "id": "cfddeafa",
   "metadata": {},
   "outputs": [
    {
     "name": "stdout",
     "output_type": "stream",
     "text": [
      "Site_factor\n",
      "0.65\n",
      "Exon_factor\n",
      "0.35\n",
      "NO_SCORE\n",
      "0\n",
      "HSP_factor\n",
      "1.0\n"
     ]
    },
    {
     "data": {
      "text/plain": [
       "\"['absolute_cutoff_exons': -15, 'coding_cutoff_oligos': -15, 'exon_weight': -12, 'Site_factor': '0.65', 'Exon_factor': '0.35', 'NO_SCORE': '0', 'HSP_factor': '1.0']\""
      ]
     },
     "execution_count": 28,
     "metadata": {},
     "output_type": "execute_result"
    }
   ],
   "source": [
    "find_missing_param(dict_all_params.keys(), file_to_read)"
   ]
  },
  {
   "cell_type": "code",
   "execution_count": 13,
   "id": "afb9febc",
   "metadata": {},
   "outputs": [
    {
     "name": "stdout",
     "output_type": "stream",
     "text": [
      "Absolute_cutoff_exons\n",
      "-15\n",
      "Coding_cutoff_oligos\n",
      "-15\n",
      "NO_SCORE\n",
      "0\n",
      "Site_factor\n",
      "0.65\n",
      "Exon_factor\n",
      "0.35\n",
      "HSP_factor\n",
      "1.0\n"
     ]
    }
   ],
   "source": [
    "started = 0\n",
    "\n",
    "files_created = []\n",
    "\n",
    "text_to_find = \"exon_factor\"\n",
    "taxid = 35523\n",
    "\n",
    "for text_to_find in dd.keys():\n",
    "    # removing the new line characters\n",
    "    # with open(f'../docker/python-modules/Parameter_files.taxid/{taxid}.param') as f:\n",
    "    with open(file_to_read) as f:\n",
    "        for line in f:\n",
    "    #        print(line)\n",
    "            if started == 0:\n",
    "                if line.strip().lower() == text_to_find:\n",
    "                    print(line.strip())\n",
    "                    started = -1\n",
    "\n",
    "            # we have just found the label of the profile of interest\n",
    "            # here we need read the value\n",
    "            elif started == -1:\n",
    "                vals = line.strip().split(' ')\n",
    "                if vals.count(vals[0]) > vals.count(vals[-1]):\n",
    "                    print(vals[0])\n",
    "                else:\n",
    "                    print(vals[-1])\n",
    "    #             print(line)\n",
    "                started = 0\n",
    "        "
   ]
  },
  {
   "cell_type": "code",
   "execution_count": 32,
   "id": "1d5f54f5",
   "metadata": {},
   "outputs": [
    {
     "name": "stdout",
     "output_type": "stream",
     "text": [
      "Site_factor0.65Exon_factor0.35HSP_factor1.0"
     ]
    }
   ],
   "source": [
    "started = 0\n",
    "\n",
    "files_created = []\n",
    "\n",
    "pattern = r'([a-zA-Z]+_[fF]actor)'\n",
    "taxid = 35523\n",
    "\n",
    "# removing the new line characters\n",
    "# with open(f'../docker/python-modules/Parameter_files.taxid/{taxid}.param') as f:\n",
    "with open(file_to_read) as f:\n",
    "    for line in f:\n",
    "#        print(line)\n",
    "        if started == 0:\n",
    "            matches = re.match(pattern, line, flags=re.IGNORECASE)\n",
    "\n",
    "            # if there is any match, get the groups and start a new file\n",
    "            if matches is not None:                \n",
    "                groups = matches.groups()\n",
    "                print(line.strip(), end = '')\n",
    "                started = -1\n",
    "\n",
    "        # we have just found the label of the profile of interest\n",
    "        # here we need read the value\n",
    "        elif started == -1:\n",
    "            vals = line.split(' ')\n",
    "            if vals.count(vals[0]) > vals.count(vals[-1]):\n",
    "                print(vals[0], end = \"\")\n",
    "            else:\n",
    "                print(vals[-1], end = \"\")\n",
    "#             print(line)\n",
    "            started = 0\n"
   ]
  },
  {
   "cell_type": "markdown",
   "id": "8a765ba4",
   "metadata": {},
   "source": [
    "# Site profiles\n",
    "Start_profile\n",
    "\n",
    "Acceptor_profile\n",
    "\n",
    "Donor_profile\n",
    "\n",
    "Stop_profile"
   ]
  },
  {
   "cell_type": "code",
   "execution_count": 16,
   "id": "ae56f882",
   "metadata": {},
   "outputs": [],
   "source": [
    "pattern = r'([a-zA-Z]+)_[Pp]rofile'\n",
    "\n",
    "def taxid_to_splitted_files(taxid):\n",
    "    started = 0\n",
    "\n",
    "    files_created = []\n",
    "    \n",
    "    # removing the new line characters\n",
    "    with open(f'../docker/python-modules/Parameter_files.taxid/{taxid}.param') as f:\n",
    "        for line in f:\n",
    "    #        print(line)\n",
    "            if started == 0:\n",
    "                matches = re.match(pattern, line)\n",
    "\n",
    "                # if there is any match, get the groups and start a new file\n",
    "                if matches is not None:                \n",
    "                    groups = matches.groups()\n",
    "                    # print(line, end = '')\n",
    "\n",
    "                    # create the file that will contain the given profile\n",
    "                    # only if it has not been created before\n",
    "                    filename = groups[0].lower() + \"_profile.{}.param\".format(taxid)\n",
    "                    if filename not in files_created:\n",
    "                        files_created.append(filename)\n",
    "                        started = -1\n",
    "\n",
    "                        print(\"Saving\", filename)\n",
    "#                         fW = open(filename, \"w\")\n",
    "#                         fW.write(line)\n",
    "\n",
    "            # we have just found the label of the profile of interest\n",
    "            # here we need to know the length and order\n",
    "            elif started == -1:\n",
    "                # write line to file\n",
    "#                 fW.write(line)\n",
    "\n",
    "                # process the content of this line\n",
    "                clean_line = line.strip()\n",
    "                splitted_line = clean_line.split(\" \")\n",
    "                length_pwm = int(splitted_line[0])\n",
    "                order_pwm = int(splitted_line[3])\n",
    "\n",
    "                rep_position = 4 ** (order_pwm + 1)\n",
    "                total_to_read = rep_position * length_pwm\n",
    "\n",
    "                # define started as the total number of lines to be read and written to the output file\n",
    "                started = total_to_read + 1\n",
    "\n",
    "            # these are the lines that we are reading and adding to the output file of the profile\n",
    "            elif started > 1:\n",
    "                # write line to file and substract one\n",
    "#                 fW.write(line)\n",
    "                started -= 1\n",
    "                # print(line, end = '')\n",
    "\n",
    "            # this is the last line to be added, so we add it and close the file\n",
    "            elif started == 1:\n",
    "                # write line to file and substract one\n",
    "#                 fW.write(line)\n",
    "                started -= 1\n",
    "                # print(line, end = '')\n",
    "\n",
    "                # close the file as we finished adding that profile\n",
    "#                 fW.close()\n",
    "                \n",
    "                \n",
    "    return \"{} splitted into {}\".format(taxid, files_created)"
   ]
  },
  {
   "cell_type": "markdown",
   "id": "cbff911d",
   "metadata": {},
   "source": [
    "# Factors\n",
    "\n",
    "Site_factor\n",
    "\n",
    "Exon_factor\n",
    "\n",
    "HSP_factor"
   ]
  },
  {
   "cell_type": "markdown",
   "id": "ed5205d4",
   "metadata": {},
   "source": [
    "# Autocomputed matrices\n",
    "\n",
    "Markov_order\n",
    "\n",
    "Markov_Initial_probability_matrix\n",
    "\n",
    "Markov_Transition_probability_matrix"
   ]
  },
  {
   "cell_type": "markdown",
   "id": "9a88dc1d",
   "metadata": {},
   "source": [
    "# Exon weights\n",
    "\n",
    "Exon_weights"
   ]
  },
  {
   "cell_type": "markdown",
   "id": "5f6f5d48",
   "metadata": {},
   "source": [
    "# Isochores & donors per acceptor\n",
    "I would fix this to always a single isochore and 5 donors per acceptor\n",
    "\n",
    "number_of_isochores\n",
    "\n",
    "boundaries_of_isochore\n",
    "\n",
    "maximum_number_of_donors_per_acceptor_site"
   ]
  },
  {
   "cell_type": "markdown",
   "id": "8ec785a9",
   "metadata": {},
   "source": [
    "# Non-homology penalty\n",
    "\n",
    "In general it is defined to 0 as all Geneid parameter files are not used with evidence. We should test and define this value based on something. Initially I would set it to -0.10.\n",
    "\n",
    "NO_SCORE"
   ]
  },
  {
   "cell_type": "markdown",
   "id": "472361a8",
   "metadata": {},
   "source": [
    "# Cutoffs\n",
    "\n",
    "Absolute_cutoff_exons\n",
    "\n",
    "Coding_cutoff_oligos"
   ]
  },
  {
   "cell_type": "markdown",
   "id": "70c79a0a",
   "metadata": {},
   "source": [
    "# General gene model (GenAmic)\n",
    "\n",
    "General_gene_model"
   ]
  },
  {
   "cell_type": "code",
   "execution_count": 15,
   "id": "09e26a4c",
   "metadata": {},
   "outputs": [
    {
     "name": "stdout",
     "output_type": "stream",
     "text": [
      "Saving start_profile.Ciona_intestinalis.7719.param\n",
      "Saving acceptor_profile.Ciona_intestinalis.7719.param\n",
      "Saving donor_profile.Ciona_intestinalis.7719.param\n",
      "Saving stop_profile.Ciona_intestinalis.7719.param\n"
     ]
    },
    {
     "data": {
      "text/plain": [
       "\"Ciona_intestinalis.7719 splitted into ['start_profile.Ciona_intestinalis.7719.param', 'acceptor_profile.Ciona_intestinalis.7719.param', 'donor_profile.Ciona_intestinalis.7719.param', 'stop_profile.Ciona_intestinalis.7719.param']\""
      ]
     },
     "execution_count": 15,
     "metadata": {},
     "output_type": "execute_result"
    }
   ],
   "source": [
    "taxid_to_splitted_files(\"Ciona_intestinalis.7719\")"
   ]
  },
  {
   "cell_type": "code",
   "execution_count": null,
   "id": "65a2dcb7",
   "metadata": {},
   "outputs": [],
   "source": []
  },
  {
   "cell_type": "code",
   "execution_count": null,
   "id": "983a43cf",
   "metadata": {},
   "outputs": [],
   "source": []
  },
  {
   "cell_type": "code",
   "execution_count": null,
   "id": "3358b609",
   "metadata": {},
   "outputs": [],
   "source": []
  },
  {
   "cell_type": "code",
   "execution_count": 51,
   "id": "433399ab",
   "metadata": {},
   "outputs": [
    {
     "name": "stdout",
     "output_type": "stream",
     "text": [
      "Saving start_profile.109871.param\n",
      "Saving acceptor_profile.109871.param\n",
      "Saving donor_profile.109871.param\n",
      "Saving stop_profile.109871.param\n",
      "109871 splitted into ['start_profile.109871.param', 'acceptor_profile.109871.param', 'donor_profile.109871.param', 'stop_profile.109871.param']\n",
      "Saving start_profile.12968.param\n",
      "Saving acceptor_profile.12968.param\n",
      "Saving donor_profile.12968.param\n",
      "Saving stop_profile.12968.param\n",
      "12968 splitted into ['start_profile.12968.param', 'acceptor_profile.12968.param', 'donor_profile.12968.param', 'stop_profile.12968.param']\n",
      "Saving start_profile.132113.param\n",
      "Saving acceptor_profile.132113.param\n",
      "Saving donor_profile.132113.param\n",
      "Saving stop_profile.132113.param\n",
      "132113 splitted into ['start_profile.132113.param', 'acceptor_profile.132113.param', 'donor_profile.132113.param', 'stop_profile.132113.param']\n",
      "Saving start_profile.13684.param\n",
      "Saving acceptor_profile.13684.param\n",
      "Saving donor_profile.13684.param\n",
      "Saving stop_profile.13684.param\n",
      "13684 splitted into ['start_profile.13684.param', 'acceptor_profile.13684.param', 'donor_profile.13684.param', 'stop_profile.13684.param']\n",
      "Saving start_profile.15368.param\n",
      "Saving acceptor_profile.15368.param\n",
      "Saving donor_profile.15368.param\n",
      "Saving stop_profile.15368.param\n",
      "15368 splitted into ['start_profile.15368.param', 'acceptor_profile.15368.param', 'donor_profile.15368.param', 'stop_profile.15368.param']\n",
      "Saving start_profile.162425.param\n",
      "Saving acceptor_profile.162425.param\n",
      "Saving donor_profile.162425.param\n",
      "Saving stop_profile.162425.param\n",
      "162425 splitted into ['start_profile.162425.param', 'acceptor_profile.162425.param', 'donor_profile.162425.param', 'stop_profile.162425.param']\n",
      "Saving start_profile.2769.param\n",
      "Saving acceptor_profile.2769.param\n",
      "Saving donor_profile.2769.param\n",
      "Saving stop_profile.2769.param\n",
      "2769 splitted into ['start_profile.2769.param', 'acceptor_profile.2769.param', 'donor_profile.2769.param', 'stop_profile.2769.param']\n",
      "Saving start_profile.29760.param\n",
      "Saving acceptor_profile.29760.param\n",
      "Saving donor_profile.29760.param\n",
      "Saving stop_profile.29760.param\n",
      "29760 splitted into ['start_profile.29760.param', 'acceptor_profile.29760.param', 'donor_profile.29760.param', 'stop_profile.29760.param']\n",
      "Saving start_profile.30195.param\n",
      "Saving acceptor_profile.30195.param\n",
      "Saving donor_profile.30195.param\n",
      "Saving stop_profile.30195.param\n",
      "30195 splitted into ['start_profile.30195.param', 'acceptor_profile.30195.param', 'donor_profile.30195.param', 'stop_profile.30195.param']\n",
      "Saving start_profile.31276.param\n",
      "Saving acceptor_profile.31276.param\n",
      "Saving donor_profile.31276.param\n",
      "Saving stop_profile.31276.param\n",
      "31276 splitted into ['start_profile.31276.param', 'acceptor_profile.31276.param', 'donor_profile.31276.param', 'stop_profile.31276.param']\n",
      "Saving start_profile.34765.param\n",
      "Saving acceptor_profile.34765.param\n",
      "Saving donor_profile.34765.param\n",
      "Saving stop_profile.34765.param\n",
      "34765 splitted into ['start_profile.34765.param', 'acceptor_profile.34765.param', 'donor_profile.34765.param', 'stop_profile.34765.param']\n",
      "Saving start_profile.3656.param\n",
      "Saving acceptor_profile.3656.param\n",
      "Saving donor_profile.3656.param\n",
      "Saving stop_profile.3656.param\n",
      "3656 splitted into ['start_profile.3656.param', 'acceptor_profile.3656.param', 'donor_profile.3656.param', 'stop_profile.3656.param']\n",
      "Saving start_profile.3702.param\n",
      "Saving acceptor_profile.3702.param\n",
      "Saving donor_profile.3702.param\n",
      "Saving stop_profile.3702.param\n",
      "3702 splitted into ['start_profile.3702.param', 'acceptor_profile.3702.param', 'donor_profile.3702.param', 'stop_profile.3702.param']\n",
      "Saving start_profile.370843.param\n",
      "Saving acceptor_profile.370843.param\n",
      "Saving donor_profile.370843.param\n",
      "Saving stop_profile.370843.param\n",
      "370843 splitted into ['start_profile.370843.param', 'acceptor_profile.370843.param', 'donor_profile.370843.param', 'stop_profile.370843.param']\n",
      "Saving start_profile.38033.param\n",
      "Saving acceptor_profile.38033.param\n",
      "Saving donor_profile.38033.param\n",
      "Saving stop_profile.38033.param\n",
      "38033 splitted into ['start_profile.38033.param', 'acceptor_profile.38033.param', 'donor_profile.38033.param', 'stop_profile.38033.param']\n",
      "Saving start_profile.3885.param\n",
      "Saving acceptor_profile.3885.param\n",
      "Saving donor_profile.3885.param\n",
      "Saving stop_profile.3885.param\n",
      "3885 splitted into ['start_profile.3885.param', 'acceptor_profile.3885.param', 'donor_profile.3885.param', 'stop_profile.3885.param']\n",
      "Saving start_profile.40658.param\n",
      "Saving acceptor_profile.40658.param\n",
      "Saving donor_profile.40658.param\n",
      "Saving stop_profile.40658.param\n",
      "40658 splitted into ['start_profile.40658.param', 'acceptor_profile.40658.param', 'donor_profile.40658.param', 'stop_profile.40658.param']\n",
      "Saving start_profile.4069.param\n",
      "Saving acceptor_profile.4069.param\n",
      "Saving donor_profile.4069.param\n",
      "Saving stop_profile.4069.param\n",
      "4069 splitted into ['start_profile.4069.param', 'acceptor_profile.4069.param', 'donor_profile.4069.param', 'stop_profile.4069.param']\n",
      "Saving start_profile.4081.param\n",
      "Saving acceptor_profile.4081.param\n",
      "Saving donor_profile.4081.param\n",
      "Saving stop_profile.4081.param\n",
      "4081 splitted into ['start_profile.4081.param', 'acceptor_profile.4081.param', 'donor_profile.4081.param', 'stop_profile.4081.param']\n",
      "Saving start_profile.4113.param\n",
      "Saving acceptor_profile.4113.param\n",
      "Saving donor_profile.4113.param\n",
      "Saving stop_profile.4113.param\n",
      "4113 splitted into ['start_profile.4113.param', 'acceptor_profile.4113.param', 'donor_profile.4113.param', 'stop_profile.4113.param']\n",
      "Saving start_profile.44689.param\n",
      "Saving acceptor_profile.44689.param\n",
      "Saving donor_profile.44689.param\n",
      "Saving stop_profile.44689.param\n",
      "44689 splitted into ['start_profile.44689.param', 'acceptor_profile.44689.param', 'donor_profile.44689.param', 'stop_profile.44689.param']\n",
      "Saving start_profile.4530.param\n",
      "Saving acceptor_profile.4530.param\n",
      "Saving donor_profile.4530.param\n",
      "Saving stop_profile.4530.param\n",
      "4530 splitted into ['start_profile.4530.param', 'acceptor_profile.4530.param', 'donor_profile.4530.param', 'stop_profile.4530.param']\n",
      "Saving start_profile.4565.param\n",
      "Saving acceptor_profile.4565.param\n",
      "Saving donor_profile.4565.param\n",
      "Saving stop_profile.4565.param\n",
      "4565 splitted into ['start_profile.4565.param', 'acceptor_profile.4565.param', 'donor_profile.4565.param', 'stop_profile.4565.param']\n",
      "Saving start_profile.4641.param\n",
      "Saving acceptor_profile.4641.param\n",
      "Saving donor_profile.4641.param\n",
      "Saving stop_profile.4641.param\n",
      "4641 splitted into ['start_profile.4641.param', 'acceptor_profile.4641.param', 'donor_profile.4641.param', 'stop_profile.4641.param']\n",
      "Saving start_profile.4787.param\n",
      "Saving acceptor_profile.4787.param\n",
      "Saving donor_profile.4787.param\n",
      "Saving stop_profile.4787.param\n",
      "4787 splitted into ['start_profile.4787.param', 'acceptor_profile.4787.param', 'donor_profile.4787.param', 'stop_profile.4787.param']\n",
      "Saving start_profile.4897.param\n",
      "Saving acceptor_profile.4897.param\n",
      "Saving donor_profile.4897.param\n",
      "Saving stop_profile.4897.param\n",
      "4897 splitted into ['start_profile.4897.param', 'acceptor_profile.4897.param', 'donor_profile.4897.param', 'stop_profile.4897.param']\n",
      "Saving start_profile.5037.param\n",
      "Saving acceptor_profile.5037.param\n",
      "Saving donor_profile.5037.param\n",
      "Saving stop_profile.5037.param\n",
      "5037 splitted into ['start_profile.5037.param', 'acceptor_profile.5037.param', 'donor_profile.5037.param', 'stop_profile.5037.param']\n",
      "Saving start_profile.506608.param\n",
      "Saving acceptor_profile.506608.param\n",
      "Saving donor_profile.506608.param\n",
      "Saving stop_profile.506608.param\n",
      "506608 splitted into ['start_profile.506608.param', 'acceptor_profile.506608.param', 'donor_profile.506608.param', 'stop_profile.506608.param']\n",
      "Saving start_profile.5141.param\n",
      "Saving acceptor_profile.5141.param\n",
      "Saving donor_profile.5141.param\n",
      "Saving stop_profile.5141.param\n",
      "5141 splitted into ['start_profile.5141.param', 'acceptor_profile.5141.param', 'donor_profile.5141.param', 'stop_profile.5141.param']\n",
      "Saving start_profile.5180.param\n",
      "Saving acceptor_profile.5180.param\n",
      "Saving donor_profile.5180.param\n",
      "Saving stop_profile.5180.param\n",
      "5180 splitted into ['start_profile.5180.param', 'acceptor_profile.5180.param', 'donor_profile.5180.param', 'stop_profile.5180.param']\n",
      "Saving start_profile.5207.param\n",
      "Saving acceptor_profile.5207.param\n",
      "Saving donor_profile.5207.param\n",
      "Saving stop_profile.5207.param\n",
      "5207 splitted into ['start_profile.5207.param', 'acceptor_profile.5207.param', 'donor_profile.5207.param', 'stop_profile.5207.param']\n",
      "Saving start_profile.5297.param\n",
      "Saving acceptor_profile.5297.param\n",
      "Saving donor_profile.5297.param\n",
      "Saving stop_profile.5297.param\n",
      "5297 splitted into ['start_profile.5297.param', 'acceptor_profile.5297.param', 'donor_profile.5297.param', 'stop_profile.5297.param']\n",
      "Saving start_profile.5346.param\n",
      "Saving acceptor_profile.5346.param\n",
      "Saving donor_profile.5346.param\n",
      "Saving stop_profile.5346.param\n",
      "5346 splitted into ['start_profile.5346.param', 'acceptor_profile.5346.param', 'donor_profile.5346.param', 'stop_profile.5346.param']\n",
      "Saving start_profile.5501.param\n",
      "Saving acceptor_profile.5501.param\n",
      "Saving donor_profile.5501.param\n",
      "Saving stop_profile.5501.param\n",
      "5501 splitted into ['start_profile.5501.param', 'acceptor_profile.5501.param', 'donor_profile.5501.param', 'stop_profile.5501.param']\n",
      "Saving start_profile.5507.param\n",
      "Saving acceptor_profile.5507.param\n",
      "Saving donor_profile.5507.param\n",
      "Saving stop_profile.5507.param\n",
      "5507 splitted into ['start_profile.5507.param', 'acceptor_profile.5507.param', 'donor_profile.5507.param', 'stop_profile.5507.param']\n",
      "Saving start_profile.561515.param\n",
      "Saving acceptor_profile.561515.param\n",
      "Saving donor_profile.561515.param\n",
      "Saving stop_profile.561515.param\n",
      "561515 splitted into ['start_profile.561515.param', 'acceptor_profile.561515.param', 'donor_profile.561515.param', 'stop_profile.561515.param']\n",
      "Saving start_profile.5691.param\n",
      "Saving acceptor_profile.5691.param\n",
      "Saving donor_profile.5691.param\n",
      "Saving stop_profile.5691.param\n"
     ]
    },
    {
     "name": "stdout",
     "output_type": "stream",
     "text": [
      "5691 splitted into ['start_profile.5691.param', 'acceptor_profile.5691.param', 'donor_profile.5691.param', 'stop_profile.5691.param']\n",
      "Saving start_profile.5807.param\n",
      "Saving acceptor_profile.5807.param\n",
      "Saving donor_profile.5807.param\n",
      "Saving stop_profile.5807.param\n",
      "5807 splitted into ['start_profile.5807.param', 'acceptor_profile.5807.param', 'donor_profile.5807.param', 'stop_profile.5807.param']\n",
      "Saving start_profile.5833.param\n",
      "Saving acceptor_profile.5833.param\n",
      "Saving donor_profile.5833.param\n",
      "Saving stop_profile.5833.param\n",
      "5833 splitted into ['start_profile.5833.param', 'acceptor_profile.5833.param', 'donor_profile.5833.param', 'stop_profile.5833.param']\n",
      "Saving start_profile.5855.param\n",
      "Saving acceptor_profile.5855.param\n",
      "Saving donor_profile.5855.param\n",
      "Saving stop_profile.5855.param\n",
      "5855 splitted into ['start_profile.5855.param', 'acceptor_profile.5855.param', 'donor_profile.5855.param', 'stop_profile.5855.param']\n",
      "Saving start_profile.5888.param\n",
      "Saving acceptor_profile.5888.param\n",
      "Saving donor_profile.5888.param\n",
      "Saving stop_profile.5888.param\n",
      "5888 splitted into ['start_profile.5888.param', 'acceptor_profile.5888.param', 'donor_profile.5888.param', 'stop_profile.5888.param']\n",
      "Saving start_profile.5911.param\n",
      "Saving acceptor_profile.5911.param\n",
      "Saving donor_profile.5911.param\n",
      "Saving stop_profile.5911.param\n",
      "5911 splitted into ['start_profile.5911.param', 'acceptor_profile.5911.param', 'donor_profile.5911.param', 'stop_profile.5911.param']\n",
      "Saving start_profile.609292.param\n",
      "Saving acceptor_profile.609292.param\n",
      "Saving donor_profile.609292.param\n",
      "Saving stop_profile.609292.param\n",
      "609292 splitted into ['start_profile.609292.param', 'acceptor_profile.609292.param', 'donor_profile.609292.param', 'stop_profile.609292.param']\n",
      "Saving start_profile.610380.param\n",
      "Saving acceptor_profile.610380.param\n",
      "Saving donor_profile.610380.param\n",
      "Saving stop_profile.610380.param\n",
      "610380 splitted into ['start_profile.610380.param', 'acceptor_profile.610380.param', 'donor_profile.610380.param', 'stop_profile.610380.param']\n",
      "Saving start_profile.6182.param\n",
      "Saving acceptor_profile.6182.param\n",
      "Saving donor_profile.6182.param\n",
      "Saving stop_profile.6182.param\n",
      "6182 splitted into ['start_profile.6182.param', 'acceptor_profile.6182.param', 'donor_profile.6182.param', 'stop_profile.6182.param']\n",
      "Saving start_profile.6239.param\n",
      "Saving acceptor_profile.6239.param\n",
      "Saving donor_profile.6239.param\n",
      "Saving stop_profile.6239.param\n",
      "6239 splitted into ['start_profile.6239.param', 'acceptor_profile.6239.param', 'donor_profile.6239.param', 'stop_profile.6239.param']\n",
      "Saving start_profile.64495.param\n",
      "Saving acceptor_profile.64495.param\n",
      "Saving donor_profile.64495.param\n",
      "Saving stop_profile.64495.param\n",
      "64495 splitted into ['start_profile.64495.param', 'acceptor_profile.64495.param', 'donor_profile.64495.param', 'stop_profile.64495.param']\n",
      "Saving start_profile.7029.param\n",
      "Saving acceptor_profile.7029.param\n",
      "Saving donor_profile.7029.param\n",
      "Saving stop_profile.7029.param\n",
      "7029 splitted into ['start_profile.7029.param', 'acceptor_profile.7029.param', 'donor_profile.7029.param', 'stop_profile.7029.param']\n",
      "Saving start_profile.7175.param\n",
      "Saving acceptor_profile.7175.param\n",
      "Saving donor_profile.7175.param\n",
      "Saving stop_profile.7175.param\n",
      "7175 splitted into ['start_profile.7175.param', 'acceptor_profile.7175.param', 'donor_profile.7175.param', 'stop_profile.7175.param']\n",
      "Saving start_profile.7209.param\n",
      "Saving acceptor_profile.7209.param\n",
      "Saving donor_profile.7209.param\n",
      "Saving stop_profile.7209.param\n",
      "7209 splitted into ['start_profile.7209.param', 'acceptor_profile.7209.param', 'donor_profile.7209.param', 'stop_profile.7209.param']\n",
      "Saving start_profile.7227.param\n",
      "Saving acceptor_profile.7227.param\n",
      "Saving donor_profile.7227.param\n",
      "Saving stop_profile.7227.param\n",
      "7227 splitted into ['start_profile.7227.param', 'acceptor_profile.7227.param', 'donor_profile.7227.param', 'stop_profile.7227.param']\n",
      "Saving start_profile.7425.param\n",
      "Saving acceptor_profile.7425.param\n",
      "Saving donor_profile.7425.param\n",
      "Saving stop_profile.7425.param\n",
      "7425 splitted into ['start_profile.7425.param', 'acceptor_profile.7425.param', 'donor_profile.7425.param', 'stop_profile.7425.param']\n",
      "Saving start_profile.7460.param\n",
      "Saving acceptor_profile.7460.param\n",
      "Saving donor_profile.7460.param\n",
      "Saving stop_profile.7460.param\n",
      "7460 splitted into ['start_profile.7460.param', 'acceptor_profile.7460.param', 'donor_profile.7460.param', 'stop_profile.7460.param']\n",
      "Saving start_profile.7462.param\n",
      "Saving acceptor_profile.7462.param\n",
      "Saving donor_profile.7462.param\n",
      "Saving stop_profile.7462.param\n",
      "7462 splitted into ['start_profile.7462.param', 'acceptor_profile.7462.param', 'donor_profile.7462.param', 'stop_profile.7462.param']\n",
      "Saving start_profile.7463.param\n",
      "Saving acceptor_profile.7463.param\n",
      "Saving donor_profile.7463.param\n",
      "Saving stop_profile.7463.param\n",
      "7463 splitted into ['start_profile.7463.param', 'acceptor_profile.7463.param', 'donor_profile.7463.param', 'stop_profile.7463.param']\n",
      "Saving start_profile.7719.param\n",
      "Saving acceptor_profile.7719.param\n",
      "Saving donor_profile.7719.param\n",
      "Saving stop_profile.7719.param\n",
      "7719 splitted into ['start_profile.7719.param', 'acceptor_profile.7719.param', 'donor_profile.7719.param', 'stop_profile.7719.param']\n",
      "Saving start_profile.82660.param\n",
      "Saving acceptor_profile.82660.param\n",
      "Saving donor_profile.82660.param\n",
      "Saving stop_profile.82660.param\n",
      "82660 splitted into ['start_profile.82660.param', 'acceptor_profile.82660.param', 'donor_profile.82660.param', 'stop_profile.82660.param']\n",
      "Saving start_profile.85445.param\n",
      "Saving acceptor_profile.85445.param\n",
      "Saving donor_profile.85445.param\n",
      "Saving stop_profile.85445.param\n",
      "85445 splitted into ['start_profile.85445.param', 'acceptor_profile.85445.param', 'donor_profile.85445.param', 'stop_profile.85445.param']\n",
      "Saving start_profile.857276.param\n",
      "Saving acceptor_profile.857276.param\n",
      "Saving donor_profile.857276.param\n",
      "Saving stop_profile.857276.param\n",
      "857276 splitted into ['start_profile.857276.param', 'acceptor_profile.857276.param', 'donor_profile.857276.param', 'stop_profile.857276.param']\n",
      "Saving start_profile.91402.param\n",
      "Saving acceptor_profile.91402.param\n",
      "Saving donor_profile.91402.param\n",
      "Saving stop_profile.91402.param\n",
      "91402 splitted into ['start_profile.91402.param', 'acceptor_profile.91402.param', 'donor_profile.91402.param', 'stop_profile.91402.param']\n",
      "Saving start_profile.91411.param\n",
      "Saving acceptor_profile.91411.param\n",
      "Saving donor_profile.91411.param\n",
      "Saving stop_profile.91411.param\n",
      "91411 splitted into ['start_profile.91411.param', 'acceptor_profile.91411.param', 'donor_profile.91411.param', 'stop_profile.91411.param']\n",
      "Saving start_profile.91432.param\n",
      "Saving acceptor_profile.91432.param\n",
      "Saving donor_profile.91432.param\n",
      "Saving stop_profile.91432.param\n",
      "91432 splitted into ['start_profile.91432.param', 'acceptor_profile.91432.param', 'donor_profile.91432.param', 'stop_profile.91432.param']\n",
      "Saving start_profile.9606.param\n",
      "Saving acceptor_profile.9606.param\n",
      "Saving donor_profile.9606.param\n",
      "Saving stop_profile.9606.param\n",
      "9606 splitted into ['start_profile.9606.param', 'acceptor_profile.9606.param', 'donor_profile.9606.param', 'stop_profile.9606.param']\n",
      "Saving start_profile.99883.param\n",
      "Saving acceptor_profile.99883.param\n",
      "Saving donor_profile.99883.param\n",
      "Saving stop_profile.99883.param\n",
      "99883 splitted into ['start_profile.99883.param', 'acceptor_profile.99883.param', 'donor_profile.99883.param', 'stop_profile.99883.param']\n"
     ]
    }
   ],
   "source": [
    "for val in taxid_list:\n",
    "    print(taxid_to_splitted_files(val))"
   ]
  },
  {
   "cell_type": "code",
   "execution_count": null,
   "id": "4d4bc704",
   "metadata": {},
   "outputs": [],
   "source": []
  }
 ],
 "metadata": {
  "kernelspec": {
   "display_name": "Python 3 (ipykernel)",
   "language": "python",
   "name": "python3"
  },
  "language_info": {
   "codemirror_mode": {
    "name": "ipython",
    "version": 3
   },
   "file_extension": ".py",
   "mimetype": "text/x-python",
   "name": "python",
   "nbconvert_exporter": "python",
   "pygments_lexer": "ipython3",
   "version": "3.8.12"
  }
 },
 "nbformat": 4,
 "nbformat_minor": 5
}
