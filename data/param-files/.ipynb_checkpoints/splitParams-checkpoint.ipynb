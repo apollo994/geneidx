{
 "cells": [
  {
   "cell_type": "code",
   "execution_count": 4,
   "id": "59c4ede5",
   "metadata": {},
   "outputs": [],
   "source": [
    "import re"
   ]
  },
  {
   "cell_type": "code",
   "execution_count": null,
   "id": "c31a2301",
   "metadata": {},
   "outputs": [],
   "source": [
    "# Parameters to Predict Sites: Lenght, Offset, Cutoff and order (Markov chain)\n",
    "Start_profile\n",
    "6 3 -5 0\n",
    "# These are the start transition probabilities\n",
    "1 A 0.225005\n",
    "1 C -0.0848766\n",
    "1 G 0.149307\n",
    "1 T -0.495084\n",
    "2 A 0.179827"
   ]
  },
  {
   "cell_type": "code",
   "execution_count": null,
   "id": "3c8c8a7e",
   "metadata": {},
   "outputs": [],
   "source": [
    "rep_position = 4 ** (order + 1)"
   ]
  },
  {
   "cell_type": "code",
   "execution_count": 39,
   "id": "9b0eeecb",
   "metadata": {},
   "outputs": [
    {
     "name": "stdout",
     "output_type": "stream",
     "text": [
      "Saving start_profile.2769.param\n",
      "Saving acceptor_profile.2769.param\n"
     ]
    }
   ],
   "source": [
    "started = 0\n",
    "\n",
    "i = 0\n",
    "\n",
    "profiles = {}\n",
    "\n",
    "pattern = r'([a-zA-Z]+)_[Pp]rofile'\n",
    "\n",
    "taxid = 2769\n",
    "\n",
    "# removing the new line characters\n",
    "with open(f'{taxid}.param') as f:\n",
    "    for line in f:\n",
    "#        print(line)\n",
    "        if started == 0:\n",
    "            matches = re.match(pattern, line)\n",
    "            \n",
    "            # if there is any match, get the groups and start a new file\n",
    "            if matches is not None:                \n",
    "                groups = matches.groups()\n",
    "                # print(line, end = '')\n",
    "                started = -1\n",
    "                                \n",
    "                # create the file that will contain the given profile\n",
    "                filename = groups[0].lower() + \"_profile.{}.param\".format(taxid)\n",
    "                print(\"Saving\", filename)\n",
    "                fW = open(filename, \"x\")\n",
    "                fW.write(line)\n",
    "\n",
    "        # we have just found the label of the profile of interest\n",
    "        # here we need to know the length and order\n",
    "        elif started == -1:\n",
    "            # write line to file\n",
    "            fW.write(line)\n",
    "            \n",
    "            # process the content of this line\n",
    "            clean_line = line.strip()\n",
    "            splitted_line = clean_line.split(\" \")\n",
    "            length_pwm = int(splitted_line[0])\n",
    "            order_pwm = int(splitted_line[3])\n",
    "            \n",
    "            rep_position = 4 ** (order_pwm + 1)\n",
    "            total_to_read = rep_position * length_pwm\n",
    "            \n",
    "            # define started as the total number of lines to be read and written to the output file\n",
    "            started = total_to_read + 1\n",
    "        \n",
    "        # these are the lines that we are reading and adding to the output file of the profile\n",
    "        elif started > 1:\n",
    "            # write line to file and substract one\n",
    "            fW.write(line)\n",
    "            started -= 1\n",
    "            # print(line, end = '')\n",
    "        \n",
    "        # this is the last line to be added, so we add it and close the file\n",
    "        elif started == 1:\n",
    "            # write line to file and substract one\n",
    "            fW.write(line)\n",
    "            started -= 1\n",
    "            # print(line, end = '')\n",
    "            \n",
    "            # close the file as we finished adding that profile\n",
    "            fW.close()\n",
    "    "
   ]
  },
  {
   "cell_type": "code",
   "execution_count": null,
   "id": "a9d8b31a",
   "metadata": {},
   "outputs": [],
   "source": []
  }
 ],
 "metadata": {
  "kernelspec": {
   "display_name": "Python 3 (ipykernel)",
   "language": "python",
   "name": "python3"
  },
  "language_info": {
   "codemirror_mode": {
    "name": "ipython",
    "version": 3
   },
   "file_extension": ".py",
   "mimetype": "text/x-python",
   "name": "python",
   "nbconvert_exporter": "python",
   "pygments_lexer": "ipython3",
   "version": "3.8.12"
  }
 },
 "nbformat": 4,
 "nbformat_minor": 5
}
